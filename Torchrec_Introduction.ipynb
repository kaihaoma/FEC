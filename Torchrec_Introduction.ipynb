{
  "cells": [
    {
      "cell_type": "markdown",
      "metadata": {
        "id": "-4DFtQNDYao1"
      },
      "source": [
        "# Intro to TorchRec\n",
        "\n",
        "Frequently, when building recommendation systems, we want to represent entities like products or pages with embeddings. For example, see Meta AI's [Deep learning recommendation model](https://arxiv.org/abs/1906.00091), or DLRM. As the number of entities grow, the size of the embedding tables can exceed a single GPU’s memory. A common practice is to shard the embedding table across devices, a type of model parallelism. To that end, **TorchRec introduces its primary API called [`DistributedModelParallel`](https://pytorch.org/torchrec/torchrec.distributed.html#torchrec.distributed.model_parallel.DistributedModelParallel), or DMP. Like pytorch’s DistributedDataParallel, DMP wraps a model to enable distributed training.**"
      ]
    },
    {
      "cell_type": "markdown",
      "metadata": {
        "id": "hBgIy9eYYx35"
      },
      "source": [
        "## **Installation**\n",
        "Requirements:\n",
        "- python >= 3.7\n",
        "\n",
        "We highly recommend CUDA when using TorchRec. If using CUDA:\n",
        "- cuda >= 11.0\n"
      ]
    },
    {
      "cell_type": "code",
      "source": [
        "# install conda to make installying pytorch with cudatoolkit 11.3 easier. \n",
        "!wget https://repo.anaconda.com/miniconda/Miniconda3-py37_4.9.2-Linux-x86_64.sh\n",
        "!chmod +x Miniconda3-py37_4.9.2-Linux-x86_64.sh\n",
        "!bash ./Miniconda3-py37_4.9.2-Linux-x86_64.sh -b -f -p /usr/local"
      ],
      "metadata": {
        "id": "BB2K68OYUJ_t"
      },
      "execution_count": null,
      "outputs": []
    },
    {
      "cell_type": "code",
      "execution_count": null,
      "metadata": {
        "id": "sFYvP95xaAER"
      },
      "outputs": [],
      "source": [
        "# install pytorch with cudatoolkit 11.3\n",
        "!conda install pytorch cudatoolkit=11.3 -c pytorch-nightly -y"
      ]
    },
    {
      "cell_type": "markdown",
      "source": [
        "Installing TorchRec will also install [FBGEMM](https://github.com/pytorch/fbgemm), a collection of CUDA kernels and GPU enabled operations to run "
      ],
      "metadata": {
        "id": "7iY7Uv11mJYK"
      }
    },
    {
      "cell_type": "code",
      "execution_count": null,
      "metadata": {
        "id": "tUnIw-ZREQJy"
      },
      "outputs": [],
      "source": [
        "# install torchrec\n",
        "!pip3 install torchrec-nightly"
      ]
    },
    {
      "cell_type": "markdown",
      "metadata": {
        "id": "b6EHgotRXFQh"
      },
      "source": [
        "The following steps are needed for the Colab runtime to detect the added shared libraries. The runtime searches for shared libraries in /usr/lib, so we copy over the libraries which were installed in /usr/local/lib/. **This is a very necessary step, only in the colab runtime**. "
      ]
    },
    {
      "cell_type": "code",
      "execution_count": null,
      "metadata": {
        "id": "_P45pDteRcWj"
      },
      "outputs": [],
      "source": [
        "!cp /usr/local/lib/lib* /usr/lib/"
      ]
    },
    {
      "cell_type": "markdown",
      "metadata": {
        "id": "n5_X2WOAYG3c"
      },
      "source": [
        "\\**Restart your runtime at this point for the newly installed packages to be seen.** Run the step below immediately after restarting so that python knows where to look for packages. **Always run this step after restarting the runtime.**"
      ]
    },
    {
      "cell_type": "code",
      "execution_count": null,
      "metadata": {
        "id": "8cktNrh8R9rC"
      },
      "outputs": [],
      "source": [
        "import sys\n",
        "sys.path = ['', '/env/python', '/usr/local/lib/python37.zip', '/usr/local/lib/python3.7', '/usr/local/lib/python3.7/lib-dynload', '/usr/local/lib/python3.7/site-packages']"
      ]
    },
    {
      "cell_type": "markdown",
      "source": [
        "## **Overview**\n",
        "This tutorial will cover three pieces of TorchRec - the `nn.module` `EmbeddingBagCollection`, the `DistributedModelParallel` API, and the datastructure `KeyedJaggedTensor`."
      ],
      "metadata": {
        "id": "HWBOrwVSnrNE"
      }
    },
    {
      "cell_type": "markdown",
      "source": [
        "### Distributed Setup\n",
        "We setup our environment with torch.distributed. For more info on distributed, see this [tutorial](https://pytorch.org/tutorials/beginner/dist_overview.html)\n",
        "\n",
        "Here, we use one rank (the colab process) corresponding to our 1 colab GPU."
      ],
      "metadata": {
        "id": "udsN6PlUo1zF"
      }
    },
    {
      "cell_type": "code",
      "source": [
        "import os\n",
        "import torch\n",
        "import torchrec\n",
        "import torch.distributed as dist\n",
        "\n",
        "os.environ[\"RANK\"] = \"0\"\n",
        "os.environ[\"WORLD_SIZE\"] = \"1\"\n",
        "os.environ[\"MASTER_ADDR\"] = \"localhost\"\n",
        "os.environ[\"MASTER_PORT\"] = \"29500\"\n",
        "\n",
        "# Note - you will need a V100 or A100 to run tutorial as as!\n",
        "# If using an older GPU (such as colab free K80), \n",
        "# you will need to compile fbgemm with the appripriate CUDA architecture\n",
        "# or run with \"gloo\" on CPUs \n",
        "dist.init_process_group(backend=\"nccl\")"
      ],
      "metadata": {
        "id": "4-v17rxkopQw"
      },
      "execution_count": 1,
      "outputs": []
    },
    {
      "cell_type": "markdown",
      "source": [
        "### From EmbeddingBag to EmbeddingBagCollection\n",
        "Pytorch represents embeddings through [`torch.nn.Embedding`](https://pytorch.org/docs/stable/generated/torch.nn.Embedding.html) and [`torch.nn.EmbeddingBag`](https://pytorch.org/docs/stable/generated/torch.nn.EmbeddingBag.html). EmbeddingBag is a pooled version of Embedding.\n",
        "\n",
        "TorchRec extends these modules by creating collections of embeddings. We will use [`EmbeddingBagCollection`](https://pytorch.org/torchrec/torchrec.modules.html#torchrec.modules.embedding_modules.EmbeddingBagCollection) to represent a group of EmbeddingBags.\n",
        "\n",
        "Here, we create an EmbeddingBagCollection (EBC) with two embedding bags. Each table, `product_table` and `user_table`, is represented by 64 dimension embedding of size 4096. Note how we initially allocate the EBC on device \"meta\". This will tell EBC to not allocate memory yet."
      ],
      "metadata": {
        "id": "ZdSUWBRxoP8R"
      }
    },
    {
      "cell_type": "code",
      "source": [
        "ebc = torchrec.EmbeddingBagCollection(\n",
        "    device=\"meta\",\n",
        "    tables=[\n",
        "        torchrec.EmbeddingBagConfig(\n",
        "            name=\"product_table\",\n",
        "            embedding_dim=64,\n",
        "            num_embeddings=4096,\n",
        "            feature_names=[\"product\"],\n",
        "            pooling=torchrec.PoolingType.SUM,\n",
        "        ),\n",
        "        torchrec.EmbeddingBagConfig(\n",
        "            name=\"user_table\",\n",
        "            embedding_dim=64,\n",
        "            num_embeddings=4096,\n",
        "            feature_names=[\"user\"],\n",
        "            pooling=torchrec.PoolingType.SUM,\n",
        "        )\n",
        "    ]\n",
        ")"
      ],
      "metadata": {
        "id": "Iz_GZDp_oQ19"
      },
      "execution_count": 2,
      "outputs": []
    },
    {
      "cell_type": "markdown",
      "source": [
        "### DistributedModelParallel\n",
        "Now, we’re ready to wrap our model with [`DistributedModelParallel`](https://pytorch.org/torchrec/torchrec.distributed.html#torchrec.distributed.model_parallel.DistributedModelParallel) (DMP). Instantiating DMP will:\n",
        "\n",
        "1. Decide how to shard the model. DMP will collect the available ‘sharders’ and come up with a ‘plan’ of the optimal way to shard the embedding table(s) (i.e, the EmbeddingBagCollection)\n",
        "2. Actually shard the model. This includes allocating memory for each embedding table on the appropriate device(s).\n",
        "\n",
        "In this toy example, since we have two EmbeddingTables and one GPU, TorchRec will place both on the single GPU.\n"
      ],
      "metadata": {
        "id": "7m0_ssVLFQEH"
      }
    },
    {
      "cell_type": "code",
      "source": [
        "model = torchrec.distributed.DistributedModelParallel(ebc, device=torch.device(\"cuda\"))\n",
        "print(model)\n",
        "print(model.plan)"
      ],
      "metadata": {
        "id": "arW0Jf6qEl-h",
        "colab": {
          "base_uri": "https://localhost:8080/"
        },
        "outputId": "66c515f1-b432-4b8f-abca-40f346942fe4"
      },
      "execution_count": 3,
      "outputs": [
        {
          "output_type": "stream",
          "name": "stdout",
          "text": [
            "DistributedModelParallel(\n",
            "  (module): DistributedDataParallel(\n",
            "    (module): EmbeddingBagCollection(\n",
            "      (embedding_bags): ModuleDict(\n",
            "        (product_table): EmbeddingBag(4096, 64, mode=sum)\n",
            "        (user_table): EmbeddingBag(4096, 64, mode=sum)\n",
            "      )\n",
            "    )\n",
            "  )\n",
            ")\n",
            "{'': {'product_table': ParameterSharding(sharding_type='column_wise', compute_kernel='batched_fused', ranks=[0, 0], sharding_spec=EnumerableShardingSpec(shards=[ShardMetadata(shard_offsets=[0, 0], shard_sizes=[4096, 32], placement=rank:0/cuda:0), ShardMetadata(shard_offsets=[0, 32], shard_sizes=[4096, 32], placement=rank:0/cuda:0)])), 'user_table': ParameterSharding(sharding_type='column_wise', compute_kernel='batched_fused', ranks=[0, 0], sharding_spec=EnumerableShardingSpec(shards=[ShardMetadata(shard_offsets=[0, 0], shard_sizes=[4096, 32], placement=rank:0/cuda:0), ShardMetadata(shard_offsets=[0, 32], shard_sizes=[4096, 32], placement=rank:0/cuda:0)]))}}\n"
          ]
        }
      ]
    },
    {
      "cell_type": "markdown",
      "source": [
        "### Query vanilla nn.EmbeddingBag with input and offsets\n",
        "\n",
        "We query [`nn.Embedding`](https://pytorch.org/docs/stable/generated/torch.nn.Embedding.html) and [`nn.EmbeddingBag`](https://pytorch.org/docs/stable/generated/torch.nn.EmbeddingBag.html) with `input` and `offsets`. Input is a 1-D tensor containing the lookup values. Offsets is a 1-D tensor where the sequence is a cumulative sum of the number of values to pool per example.\n",
        "\n",
        "Let's look at an example, recreating the product EmbeddingBag above\n",
        "\n",
        "```\n",
        "|------------|\n",
        "| product ID |\n",
        "|------------|\n",
        "| [101, 202] |\n",
        "| []         |\n",
        "| [303]      |\n",
        "|------------|\n",
        "```\n",
        "\n"
      ],
      "metadata": {
        "id": "slQSqiIxQHVW"
      }
    },
    {
      "cell_type": "code",
      "source": [
        "product_eb = torch.nn.EmbeddingBag(4096, 64)\n",
        "product_eb(input=torch.tensor([101, 202, 303]), offsets=torch.tensor([0, 2, 2]))"
      ],
      "metadata": {
        "colab": {
          "base_uri": "https://localhost:8080/"
        },
        "id": "4T_SExFDBqHS",
        "outputId": "1316b55d-3741-454c-f66b-dfbb000a6060"
      },
      "execution_count": 4,
      "outputs": [
        {
          "output_type": "execute_result",
          "data": {
            "text/plain": [
              "tensor([[-2.4314e-01,  2.4152e-01,  1.2018e-01,  9.8066e-01,  7.8772e-01,\n",
              "         -9.7475e-01,  4.5308e-02,  3.7757e-01,  3.5162e-01, -1.6291e+00,\n",
              "         -7.1760e-01,  2.5054e-01, -1.5857e-01, -2.8680e-01,  2.3202e-01,\n",
              "         -5.1505e-01, -2.6178e-01, -3.9254e-02, -3.8008e-01, -7.3679e-01,\n",
              "          8.0809e-01, -4.3544e-01,  8.3320e-01,  1.1880e-01,  1.4292e-01,\n",
              "          4.4345e-01, -2.3526e-01, -7.1804e-03,  8.7608e-02,  1.0716e-02,\n",
              "         -3.7304e-01, -1.4160e+00, -4.4371e-01,  1.7333e+00,  7.9387e-01,\n",
              "         -1.1216e+00, -5.5665e-01,  1.4938e-01,  4.0931e-01,  1.4251e+00,\n",
              "          6.5378e-01, -4.9071e-01,  3.3698e-01, -1.5504e-01,  8.9297e-02,\n",
              "         -7.9015e-01,  1.2470e+00, -1.0940e+00,  9.9707e-01,  8.5721e-01,\n",
              "          1.4603e-01,  1.0078e+00,  3.2532e-01, -1.1159e+00, -5.4979e-02,\n",
              "          1.5726e-01, -4.5305e-01, -1.1749e+00,  9.5387e-01,  1.8715e-01,\n",
              "          7.0722e-01, -2.6525e-01, -1.3195e+00, -6.3983e-01],\n",
              "        [ 0.0000e+00,  0.0000e+00,  0.0000e+00,  0.0000e+00,  0.0000e+00,\n",
              "          0.0000e+00,  0.0000e+00,  0.0000e+00,  0.0000e+00,  0.0000e+00,\n",
              "          0.0000e+00,  0.0000e+00,  0.0000e+00,  0.0000e+00,  0.0000e+00,\n",
              "          0.0000e+00,  0.0000e+00,  0.0000e+00,  0.0000e+00,  0.0000e+00,\n",
              "          0.0000e+00,  0.0000e+00,  0.0000e+00,  0.0000e+00,  0.0000e+00,\n",
              "          0.0000e+00,  0.0000e+00,  0.0000e+00,  0.0000e+00,  0.0000e+00,\n",
              "          0.0000e+00,  0.0000e+00,  0.0000e+00,  0.0000e+00,  0.0000e+00,\n",
              "          0.0000e+00,  0.0000e+00,  0.0000e+00,  0.0000e+00,  0.0000e+00,\n",
              "          0.0000e+00,  0.0000e+00,  0.0000e+00,  0.0000e+00,  0.0000e+00,\n",
              "          0.0000e+00,  0.0000e+00,  0.0000e+00,  0.0000e+00,  0.0000e+00,\n",
              "          0.0000e+00,  0.0000e+00,  0.0000e+00,  0.0000e+00,  0.0000e+00,\n",
              "          0.0000e+00,  0.0000e+00,  0.0000e+00,  0.0000e+00,  0.0000e+00,\n",
              "          0.0000e+00,  0.0000e+00,  0.0000e+00,  0.0000e+00],\n",
              "        [ 6.2591e-01, -3.5911e-01, -2.9118e-01, -2.0332e-01, -1.9769e+00,\n",
              "          2.6036e+00,  8.6339e-01, -1.2230e-01, -9.5406e-01,  1.0681e+00,\n",
              "          3.5658e+00,  2.9858e+00,  4.0631e-01,  8.4370e-01, -9.5930e-01,\n",
              "         -4.1663e-01,  2.8198e-01,  4.1933e-01,  1.0547e+00,  2.5858e+00,\n",
              "         -1.8310e+00, -1.2590e-01,  8.1965e-01,  2.3427e-01, -6.0278e-01,\n",
              "          3.3858e-02, -8.2257e-02, -2.6904e-01,  2.7774e-01,  9.0982e-01,\n",
              "          2.1168e-01, -5.6589e-01,  9.3353e-01, -9.0163e-01,  1.3863e+00,\n",
              "          6.6503e-01,  1.2451e+00, -5.0408e-01, -1.2597e+00, -1.2428e-01,\n",
              "          1.1916e+00,  6.4491e-01, -2.1651e-02,  2.1528e+00,  1.5099e-01,\n",
              "          1.0699e+00, -2.7973e-01, -1.2436e+00, -1.4264e-01, -7.4041e-01,\n",
              "         -6.8960e-02,  1.7699e+00, -2.7099e+00, -6.4193e-01, -3.5532e-01,\n",
              "         -1.7467e+00,  2.3953e+00,  8.3981e-01, -4.4502e-01, -1.1320e+00,\n",
              "          1.1163e-01, -1.0295e-03,  3.2669e-01, -5.3934e-01]],\n",
              "       grad_fn=<EmbeddingBagBackward0>)"
            ]
          },
          "metadata": {},
          "execution_count": 4
        }
      ]
    },
    {
      "cell_type": "markdown",
      "source": [
        "### Representing minibatches with KeyedJaggedTensor\n",
        "\n",
        "We need an efficient representation of multiple examples of an arbitrary number of entity IDs per feature per example. In order to enable this \"jagged\" representation, we use the TorchRec datastructure [`KeyedJaggedTensor`](https://pytorch.org/torchrec/torchrec.sparse.html#torchrec.sparse.jagged_tensor.JaggedTensor) (KJT).\n",
        "\n",
        "Let's take a look at **how to lookup a collection of two embedding bags**, \"product\" and \"user\".  Assume the minibatch is made up of three examples for three users. The first of which has two product IDs, the second with none, and the third with one product ID.\n",
        "\n",
        "```\n",
        "|------------|------------|\n",
        "| product ID | user ID    |\n",
        "|------------|------------|\n",
        "| [101, 202] | [404]      |\n",
        "| []         | [505]      |\n",
        "| [303]      | [606]      |\n",
        "|------------|------------|\n",
        "```\n",
        "\n",
        "The query should be:"
      ],
      "metadata": {
        "id": "FxFOoBnZCbRX"
      }
    },
    {
      "cell_type": "code",
      "source": [
        "mb = torchrec.KeyedJaggedTensor(\n",
        "    keys = [\"product\", \"user\"],\n",
        "    values = torch.tensor([101, 202, 303, 404, 505, 606]).cuda(),\n",
        "    lengths = torch.tensor([2, 0, 1, 1, 1, 1], dtype=torch.int64).cuda(),\n",
        ")\n",
        "\n",
        "print(mb.to(torch.device(\"cpu\")))"
      ],
      "metadata": {
        "id": "dKxjPYbpDY3k",
        "colab": {
          "base_uri": "https://localhost:8080/"
        },
        "outputId": "cb6b3103-e5b7-4e05-edaa-4996a1bae080"
      },
      "execution_count": 5,
      "outputs": [
        {
          "output_type": "stream",
          "name": "stdout",
          "text": [
            "KeyedJaggedTensor({\n",
            "    \"product\": [[101, 202], [], [303]],\n",
            "    \"user\": [[404], [505], [606]]\n",
            "})\n",
            "\n"
          ]
        }
      ]
    },
    {
      "cell_type": "markdown",
      "metadata": {
        "id": "Co1Tb5RQ-J5a"
      },
      "source": [
        "Note that the KJT batch size is `batch_size = len(lengths)//len(keys)`. **In the above example, batch_size is 3.**\n",
        "\n"
      ]
    },
    {
      "cell_type": "markdown",
      "source": [
        "### Putting it all together, querying our distributed model with a KJT minibatch\n",
        "Finally, we can query our model using our minibatch of products and users.\n",
        "\n",
        "The resulting lookup will contain a KeyedTensor, where each key (or feature) contains a 2D tensor of size 3x64 (batch_size x embedding_dim)."
      ],
      "metadata": {
        "id": "ZjP4ctxqnmsU"
      }
    },
    {
      "cell_type": "code",
      "source": [
        "pooled_embeddings = model(mb)\n",
        "print(pooled_embeddings)"
      ],
      "metadata": {
        "id": "TmnV3iH4IXn8",
        "colab": {
          "base_uri": "https://localhost:8080/"
        },
        "outputId": "2dc38da9-0e30-4e76-dc80-47c9d80074c7"
      },
      "execution_count": 6,
      "outputs": [
        {
          "output_type": "stream",
          "name": "stdout",
          "text": [
            "KeyedTensor({\n",
            "    \"product\": [[-1.8656952381134033, 0.474741131067276, -0.030441880226135254, 0.7665500640869141, -3.278212785720825, -1.0263506174087524, -0.776576042175293, -1.0227174758911133, 0.22396019101142883, 1.4156086444854736, -1.2582138776779175, -0.2592978775501251, -0.12296128273010254, 1.039972186088562, 0.34208089113235474, 1.7708743810653687, -1.6115472316741943, -1.1321913003921509, -0.14693689346313477, -2.68196439743042, -1.308570146560669, 1.4043986797332764, 0.4312652349472046, -0.5712448358535767, 2.8715896606445312, -0.859661877155304, -1.2656745910644531, -2.292487144470215, 0.8639684915542603, 1.5803464651107788, 0.3377319276332855, -0.8498208522796631, -2.493192195892334, 1.321204423904419, -1.5048304796218872, -0.20491421222686768, -0.28394314646720886, -3.1207520961761475, 0.45722758769989014, 1.080879807472229, -0.2185901403427124, 1.2833147048950195, 1.4803493022918701, -0.8197636604309082, 2.287618398666382, -1.3601446151733398, -1.2562706470489502, -0.7741717100143433, -2.602367877960205, 1.4714809656143188, -0.08515667915344238, -0.1098470687866211, -0.8122187256813049, -1.4593409299850464, -0.7658472061157227, 0.39315032958984375, -0.7047174572944641, -0.09028202295303345, -2.0795211791992188, -2.3572559356689453, 0.6065765023231506, 1.8093016147613525, -1.9954673051834106, -0.04874217510223389], [0.0, 0.0, 0.0, 0.0, 0.0, 0.0, 0.0, 0.0, 0.0, 0.0, 0.0, 0.0, 0.0, 0.0, 0.0, 0.0, 0.0, 0.0, 0.0, 0.0, 0.0, 0.0, 0.0, 0.0, 0.0, 0.0, 0.0, 0.0, 0.0, 0.0, 0.0, 0.0, 0.0, 0.0, 0.0, 0.0, 0.0, 0.0, 0.0, 0.0, 0.0, 0.0, 0.0, 0.0, 0.0, 0.0, 0.0, 0.0, 0.0, 0.0, 0.0, 0.0, 0.0, 0.0, 0.0, 0.0, 0.0, 0.0, 0.0, 0.0, 0.0, 0.0, 0.0, 0.0], [0.2111077755689621, 1.426905870437622, -1.9045644998550415, 1.0003056526184082, 1.375261902809143, -0.3209598660469055, -1.2825249433517456, 1.7720469236373901, -0.10591764003038406, 0.11683755367994308, 0.8471139669418335, -0.10586022585630417, -0.6998347640037537, 0.4884461462497711, -1.1171549558639526, -0.26305389404296875, 0.2929302752017975, 0.15908503532409668, -1.0259265899658203, 1.548290491104126, -0.847794234752655, -1.322924017906189, -1.0824371576309204, -2.110758066177368, 1.6387954950332642, 0.497633695602417, 0.7043813467025757, 0.8686508536338806, 1.1800001859664917, -1.2347722053527832, 0.29667580127716064, 0.5119174718856812, -1.9373513460159302, -2.005291223526001, 0.7961334586143494, 1.9086638689041138, 1.4739025831222534, -2.188633680343628, 0.8541534543037415, 0.49352264404296875, 1.8822563886642456, 1.6420422792434692, -0.06235358864068985, 0.37261560559272766, 0.4788542687892914, 1.6499422788619995, -1.6169620752334595, 1.5115387439727783, -0.8736479878425598, -0.2658688426017761, -0.02758501097559929, -0.11283109337091446, -0.3473960757255554, 0.5549273490905762, -1.5808351039886475, -1.4319299459457397, 0.09612055867910385, -2.442542552947998, 0.8023959994316101, -1.653260588645935, -0.5686514973640442, 0.4485405385494232, 0.5040607452392578, -0.6738490462303162]],\n",
            "    \"user\": [[-0.16256600618362427, -0.763642430305481, 2.4100100994110107, 1.1130489110946655, 3.5641345977783203, 0.22917966544628143, -0.5463776588439941, 0.5159216523170471, 1.9182755947113037, 0.45951658487319946, 0.9565032124519348, 0.7597752809524536, 1.3046115636825562, -1.1990487575531006, -0.952377438545227, 0.14813651144504547, 0.14509625732898712, -0.3718965947628021, -0.5558148622512817, -1.738431692123413, -1.338798999786377, -0.826448917388916, 0.8432862758636475, -0.6322816610336304, 0.7016496062278748, -0.19852972030639648, 1.0652493238449097, 1.3252737522125244, -0.8466835618019104, 0.11104761064052582, -1.0141860246658325, -1.3593374490737915, -0.48712027072906494, -2.4605743885040283, -0.8530622720718384, -1.303533673286438, -0.23734083771705627, 0.18853241205215454, 0.13570116460323334, 0.9197661876678467, 0.5916520357131958, 0.3722675144672394, -0.3112543523311615, -1.2899589538574219, 0.5050270557403564, -0.001681691617704928, -1.409550666809082, 0.16089710593223572, -2.0393214225769043, 0.09647680073976517, 0.312869668006897, -1.8427482843399048, 0.6736921072006226, 1.853380799293518, 0.22183580696582794, -0.6760538220405579, -0.2975975275039673, 0.42650026082992554, -0.6345016360282898, -0.2816818952560425, -1.3709197044372559, -0.7040326595306396, -1.035295009613037, 1.1401337385177612], [0.630005419254303, 0.5644611716270447, 1.5582952499389648, 2.282694101333618, -1.5784064531326294, 0.09608986228704453, -0.28420349955558777, 1.496514081954956, 0.4120502769947052, -0.4629879295825958, 0.07549884915351868, 0.7215681672096252, 0.527843713760376, -0.28337720036506653, -1.1743379831314087, 1.0640853643417358, -0.24787262082099915, 0.7136895656585693, 0.9386340975761414, -0.7629089951515198, 2.429746389389038, -0.36869296431541443, -0.6501051783561707, -0.4492216408252716, -0.48618853092193604, -0.9456757307052612, 1.0062410831451416, -1.38004469871521, -0.5399998426437378, -0.06854809075593948, 1.2231323719024658, 1.193169116973877, 0.4118921458721161, 0.43694525957107544, -0.5491786599159241, 0.754319965839386, 1.2255418300628662, 1.3388670682907104, -0.26053059101104736, -0.43648192286491394, -0.09912373870611191, -0.3007164001464844, -0.3552282154560089, -0.11838503181934357, 0.7360970973968506, 0.2715350091457367, -0.6177213191986084, -0.29757434129714966, 0.5008785724639893, 0.9430329203605652, 0.6152575612068176, 0.556820809841156, -1.5912073850631714, -2.3140177726745605, -0.5721108913421631, 1.1730190515518188, 1.506588339805603, -0.15993499755859375, 1.239234447479248, -0.005754217971116304, 1.2229658365249634, -1.3173619508743286, -0.14822852611541748, 0.0359298400580883], [-0.6107385754585266, -0.4352419674396515, 0.862862765789032, -0.826651394367218, -0.8342399001121521, -0.18018150329589844, -1.757070779800415, -0.21678733825683594, 0.034467123448848724, 0.6963943243026733, -1.9809824228286743, 0.5533051490783691, -0.35555174946784973, 0.8393757343292236, 1.308409333229065, -1.1639301776885986, 1.9790371656417847, 0.22960157692432404, -1.3361566066741943, 0.7751011252403259, 2.0173981189727783, 1.4076939821243286, -0.49787452816963196, -1.658274531364441, 2.2036733627319336, 1.4514336585998535, 0.06734084337949753, -0.06062912568449974, -1.509920358657837, -2.248521327972412, -1.8392741680145264, -0.5875238180160522, 1.726096510887146, -2.0762836933135986, 1.1088579893112183, 1.727122187614441, 0.8530503511428833, -0.6159414649009705, 1.321847677230835, 1.7391449213027954, 0.35934171080589294, -0.7132294178009033, 2.3859031200408936, -0.15372411906719208, -0.9139262437820435, -0.7189798951148987, 0.4186621606349945, -0.574353814125061, -0.7366892099380493, 1.1116712093353271, 2.777973175048828, 0.7450876235961914, 0.7590291500091553, -1.2620412111282349, -0.6589803099632263, 1.1697165966033936, 0.7838482856750488, 0.5109412670135498, -1.9921855926513672, -0.8900401592254639, -0.47747036814689636, -0.48211750388145447, 0.0496770441532135, 0.06941157579421997]]\n",
            "})\n",
            "\n"
          ]
        }
      ]
    },
    {
      "cell_type": "markdown",
      "source": [
        "## More resources\n",
        "For more information, please see our [dlrm](https://github.com/pytorch/torchrec/tree/main/examples/dlrm) example, which includes multinode training on the criteo terabyte dataset, using Meta’s [DLRM](https://arxiv.org/abs/1906.00091)."
      ],
      "metadata": {
        "id": "ebXfh7oW9fHH"
      }
    }
  ],
  "metadata": {
    "accelerator": "GPU",
    "colab": {
      "background_execution": "on",
      "collapsed_sections": [],
      "machine_shape": "hm",
      "name": "Torchrec Introduction.ipynb",
      "provenance": []
    },
    "kernelspec": {
      "display_name": "Python 3",
      "name": "python3"
    },
    "language_info": {
      "name": "python"
    }
  },
  "nbformat": 4,
  "nbformat_minor": 0
}
